{
 "cells": [
  {
   "cell_type": "markdown",
   "metadata": {
    "colab_type": "text",
    "id": "cCPKik5ALCad"
   },
   "source": [
    "University of Stirling<br>\n",
    "Computing Science and Mathematics<br>\n",
    "#### CSCU9YE - Artificial Intelligence\n",
    "    \n",
    "# Labs 2 and 3: Heuristic Search for Optimisation\n",
    "\n",
    "## The Knapsack problem    \n",
    "\n",
    "The Knapsack problem is an optimisation problem where the goal is to maximise the total value of the objects that can be carried in a knapsack or backpack.\n",
    "\n",
    "You are given 3 datasets that you can download from the Canvas page describing the practical. The datasets are text files where the first line gives the number of items, the last line gives the capacity of the knapsack and the intermediate lines give the index, value and weight of each item. \n",
    "    \n",
    "Below you can find the code to read the data files.  In order to run the code, place the datafiles in the same folder as the notebook.    \n",
    "  "
   ]
  },
  {
   "cell_type": "code",
   "execution_count": null,
   "metadata": {
    "colab": {
     "base_uri": "https://localhost:8080/",
     "height": 333
    },
    "colab_type": "code",
    "executionInfo": {
     "elapsed": 1086,
     "status": "error",
     "timestamp": 1596647240405,
     "user": {
      "displayName": "Andreas Meier",
      "photoUrl": "https://lh3.googleusercontent.com/a-/AOh14Ghaz_A3sKwWcbf93B1U-ifdXPFdtz9qEKH4wWsAZw=s64",
      "userId": "00895695506529229154"
     },
     "user_tz": -60
    },
    "id": "QexmDPakLCah",
    "outputId": "11cfaecb-7406-4032-9d12-0f065bc02b0c"
   },
   "outputs": [],
   "source": [
    "# Read the data given a file name. Returns: n = no. items, \n",
    "# c = capacity, vs: list of item values, ws: list of item weights\n",
    "\n",
    "def read_knapsack_data(fname):\n",
    "           \n",
    "    with open(fname, 'r') as kfile:\n",
    "        lines = kfile.readlines()     # reads the whole file\n",
    "    n = int(lines[0])\n",
    "    c = int(lines[n+1])\n",
    "    vs = []\n",
    "    ws = []\n",
    "    lines = lines[1:n+1]              # Removes the first and last line\n",
    "    for l in lines:\n",
    "        numbers = l.split()   # Converts the string into a list\n",
    "        vs.append(int(numbers[1]))    # Appends value, need to convert to int\n",
    "        ws.append(int(numbers[2]))    # Appends weight, need to convert to int\n",
    "    return n, c, vs, ws\n",
    "\n",
    "# Reading data from a file, in this example the instance with 5 items\n",
    "knapfile = \"knap5.txt\"     # filename, should be located in the same directory\n",
    "n, W, values, weights = read_knapsack_data(knapfile)\n",
    "print(f'values:  {values}\\nweights: {weights}\\nNumber of items: {n}. Weight Capacity: {c}')"
   ]
  },
  {
   "cell_type": "markdown",
   "metadata": {},
   "source": [
    "Now let us read the dataset with 20 items "
   ]
  },
  {
   "cell_type": "code",
   "execution_count": null,
   "metadata": {
    "colab_type": "text",
    "id": "GU3QSUBALCav"
   },
   "outputs": [],
   "source": [
    "# Reading data from a file\n",
    "knapfile = \"knap20.txt\"     # filename, should be located in the same directory\n",
    "n, W, values, weights = read_knapsack_data(knapfile)\n",
    "# Print only the number of items and capacity\n",
    "print(f'Number of items: {n}. Weight Capacity: {W}')"
   ]
  },
  {
   "cell_type": "markdown",
   "metadata": {},
   "source": [
    "Here the code to generate a random binary string of 0s and 1s"
   ]
  },
  {
   "cell_type": "code",
   "execution_count": 1,
   "metadata": {},
   "outputs": [
    {
     "ename": "NameError",
     "evalue": "name 'n' is not defined",
     "output_type": "error",
     "traceback": [
      "\u001b[0;31m---------------------------------------------------------------------------\u001b[0m",
      "\u001b[0;31mNameError\u001b[0m                                 Traceback (most recent call last)",
      "\u001b[0;32m<ipython-input-1-087b83eeebc2>\u001b[0m in \u001b[0;36m<module>\u001b[0;34m\u001b[0m\n\u001b[1;32m      1\u001b[0m \u001b[0;32mimport\u001b[0m \u001b[0mrandom\u001b[0m \u001b[0;32mas\u001b[0m \u001b[0mrnd\u001b[0m\u001b[0;34m\u001b[0m\u001b[0;34m\u001b[0m\u001b[0m\n\u001b[0;32m----> 2\u001b[0;31m \u001b[0msol\u001b[0m \u001b[0;34m=\u001b[0m \u001b[0mrnd\u001b[0m\u001b[0;34m.\u001b[0m\u001b[0mchoices\u001b[0m\u001b[0;34m(\u001b[0m\u001b[0;34m[\u001b[0m\u001b[0;36m0\u001b[0m\u001b[0;34m,\u001b[0m\u001b[0;36m1\u001b[0m\u001b[0;34m]\u001b[0m\u001b[0;34m,\u001b[0m \u001b[0mk\u001b[0m\u001b[0;34m=\u001b[0m\u001b[0mn\u001b[0m\u001b[0;34m)\u001b[0m  \u001b[0;31m# this create a random binary list of n elements, where n comes from the cell above\u001b[0m\u001b[0;34m\u001b[0m\u001b[0;34m\u001b[0m\u001b[0m\n\u001b[0m\u001b[1;32m      3\u001b[0m \u001b[0mprint\u001b[0m\u001b[0;34m(\u001b[0m\u001b[0msol\u001b[0m\u001b[0;34m)\u001b[0m\u001b[0;34m\u001b[0m\u001b[0;34m\u001b[0m\u001b[0m\n",
      "\u001b[0;31mNameError\u001b[0m: name 'n' is not defined"
     ]
    }
   ],
   "source": [
    "import random as rnd\n",
    "sol = rnd.choices([0,1], k=n)  # this create a random binary list of n elements, where n comes from the cell above\n",
    "print(sol)"
   ]
  },
  {
   "cell_type": "code",
   "execution_count": null,
   "metadata": {},
   "outputs": [],
   "source": []
  }
 ],
 "metadata": {
  "colab": {
   "collapsed_sections": [],
   "name": "lab2_stir.ipynb",
   "provenance": [],
   "toc_visible": true
  },
  "kernelspec": {
   "display_name": "Python 3",
   "language": "python",
   "name": "python3"
  },
  "language_info": {
   "codemirror_mode": {
    "name": "ipython",
    "version": 3
   },
   "file_extension": ".py",
   "mimetype": "text/x-python",
   "name": "python",
   "nbconvert_exporter": "python",
   "pygments_lexer": "ipython3",
   "version": "3.8.2"
  }
 },
 "nbformat": 4,
 "nbformat_minor": 4
}
